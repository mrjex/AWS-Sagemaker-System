{
 "cells": [
  {
   "cell_type": "code",
   "execution_count": 1,
   "id": "43558151",
   "metadata": {},
   "outputs": [],
   "source": [
    "# Table of contents:\n",
    "## data preparation\n",
    "## move data into s3 bucket\n",
    "## create model (the object to be used train)\n",
    "## train model\n",
    "## deploy model"
   ]
  },
  {
   "cell_type": "markdown",
   "id": "6e8e82e0",
   "metadata": {},
   "source": [
    "# data preparation"
   ]
  },
  {
   "cell_type": "code",
   "execution_count": 2,
   "id": "c67115dc",
   "metadata": {},
   "outputs": [
    {
     "data": {
      "text/plain": [
       "('data.zip', <http.client.HTTPMessage at 0x7fab098d1990>)"
      ]
     },
     "execution_count": 2,
     "metadata": {},
     "output_type": "execute_result"
    }
   ],
   "source": [
    "import urllib.request\n",
    "\n",
    "urllib.request.urlretrieve('https://archive.ics.uci.edu/static/public/53/iris.zip',\n",
    "                          'data.zip')"
   ]
  },
  {
   "cell_type": "code",
   "execution_count": 3,
   "id": "d86b71f8",
   "metadata": {},
   "outputs": [
    {
     "name": "stdout",
     "output_type": "stream",
     "text": [
      "Archive:  data.zip\r\n",
      "  inflating: data/Index              \r\n",
      "  inflating: data/bezdekIris.data    \r\n",
      "  inflating: data/iris.data          \r\n",
      "  inflating: data/iris.names         \r\n"
     ]
    }
   ],
   "source": [
    "!mkdir data\n",
    "!unzip data.zip -d data/"
   ]
  },
  {
   "cell_type": "code",
   "execution_count": 10,
   "id": "a437b2d7",
   "metadata": {},
   "outputs": [
    {
     "name": "stderr",
     "output_type": "stream",
     "text": [
      "/tmp/ipykernel_1185/29921390.py:9: FutureWarning: Downcasting behavior in `replace` is deprecated and will be removed in a future version. To retain the old behavior, explicitly call `result.infer_objects(copy=False)`. To opt-in to the future behavior, set `pd.set_option('future.no_silent_downcasting', True)`\n",
      "  data[4] = data[4].replace('Iris-versicolor', 2)\n"
     ]
    }
   ],
   "source": [
    "\n",
    "import pandas as pd\n",
    "\n",
    "# read data\n",
    "data = pd.read_csv('data/iris.data', header=None)\n",
    "\n",
    "# convert to numerical values\n",
    "data[4] = data[4].replace('Iris-setosa', 0)\n",
    "data[4] = data[4].replace('Iris-virginica', 1)\n",
    "data[4] = data[4].replace('Iris-versicolor', 2)\n",
    "\n",
    "# shuffle data\n",
    "data = data.sample(frac=1).reset_index(drop=True)\n",
    "\n",
    "# change label column indices\n",
    "data = data[[4, 0, 1, 2, 3]]\n",
    "\n",
    "# split data to 'training' and 'validation' sets\n",
    "\n",
    "# Total: 150 instances\n",
    "# 80% train data (120 instances)\n",
    "# 20% validation data (30 instances)\n",
    "\n",
    "train_data = data[:120]\n",
    "val_data = data[120:]"
   ]
  },
  {
   "cell_type": "markdown",
   "id": "1ffbfc12",
   "metadata": {},
   "source": [
    "# move data into s3 bucket"
   ]
  },
  {
   "cell_type": "code",
   "execution_count": 13,
   "id": "50ed1169",
   "metadata": {},
   "outputs": [],
   "source": [
    "import boto3\n",
    "\n",
    "\n",
    "bucket_name = 'sagemaker-build-and-deploy-model-sagemaker2'\n",
    "\n",
    "# Save training data\n",
    "train_data.to_csv('data.csv', header=False, index=False)\n",
    "key = 'data/train/data'\n",
    "url = 's3://{}/{}'.format(bucket_name, key)\n",
    "boto3.Session().resource('s3').Bucket(bucket_name).Object(key).upload_file('data.csv')\n",
    "\n",
    "# Save validation data\n",
    "val_data.to_csv('data.csv', header=False, index=False)\n",
    "key = 'data/val/data'\n",
    "url = 's3://{}/{}'.format(bucket_name, key)\n",
    "boto3.Session().resource('s3').Bucket(bucket_name).Object(key).upload_file('data.csv')"
   ]
  },
  {
   "cell_type": "markdown",
   "id": "126788f8",
   "metadata": {},
   "source": [
    "# create model"
   ]
  },
  {
   "cell_type": "code",
   "execution_count": 25,
   "id": "0a017d8e",
   "metadata": {},
   "outputs": [
    {
     "name": "stderr",
     "output_type": "stream",
     "text": [
      "WARNING:sagemaker.deprecations:The method get_image_uri has been renamed in sagemaker>=2.\n",
      "See: https://sagemaker.readthedocs.io/en/stable/v2.html for details.\n",
      "INFO:sagemaker.image_uris:Ignoring unnecessary instance type: None.\n",
      "WARNING:sagemaker.deprecations:train_instance_count has been renamed in sagemaker>=2.\n",
      "See: https://sagemaker.readthedocs.io/en/stable/v2.html for details.\n",
      "WARNING:sagemaker.deprecations:train_instance_type has been renamed in sagemaker>=2.\n",
      "See: https://sagemaker.readthedocs.io/en/stable/v2.html for details.\n",
      "WARNING:sagemaker.deprecations:train_volume_size has been renamed in sagemaker>=2.\n",
      "See: https://sagemaker.readthedocs.io/en/stable/v2.html for details.\n"
     ]
    }
   ],
   "source": [
    "import sagemaker\n",
    "from sagemaker.amazon.amazon_estimator import get_image_uri\n",
    "from sagemaker import get_execution_role\n",
    "\n",
    "key = 'model/xgb_model'\n",
    "s3_output_location = 's3://{}/{}'.format(bucket_name, key)\n",
    "\n",
    "xgb_model = sagemaker.estimator.Estimator(\n",
    "    get_image_uri(boto3.Session().region_name, 'xgboost'),\n",
    "    get_execution_role(),\n",
    "    train_instance_count=1,\n",
    "    train_instance_type='ml.m5.xlarge',\n",
    "    train_volume_size=5,\n",
    "    output_path=s3_output_location,\n",
    "    sagemaker_session=sagemaker.Session()\n",
    ")\n",
    "\n",
    "xgb_model.set_hyperparameters(max_depth=5,\n",
    "                             eta=0.2,\n",
    "                             gamma=4,\n",
    "                             min_child_weight=6,\n",
    "                             silent=0,\n",
    "                             objective='multi:softmax',\n",
    "                             num_class=3,\n",
    "                             num_round=10)"
   ]
  },
  {
   "cell_type": "markdown",
   "id": "7cc0e292",
   "metadata": {},
   "source": [
    "# train model"
   ]
  },
  {
   "cell_type": "code",
   "execution_count": 26,
   "id": "9a784d66",
   "metadata": {},
   "outputs": [
    {
     "name": "stderr",
     "output_type": "stream",
     "text": [
      "WARNING:sagemaker.deprecations:The class sagemaker.session.s3_input has been renamed in sagemaker>=2.\n",
      "See: https://sagemaker.readthedocs.io/en/stable/v2.html for details.\n",
      "WARNING:sagemaker.deprecations:The class sagemaker.session.s3_input has been renamed in sagemaker>=2.\n",
      "See: https://sagemaker.readthedocs.io/en/stable/v2.html for details.\n",
      "INFO:sagemaker:Creating training-job with name: xgboost-2024-07-23-17-44-48-468\n"
     ]
    },
    {
     "name": "stdout",
     "output_type": "stream",
     "text": [
      "2024-07-23 17:44:48 Starting - Starting the training job...\n",
      "2024-07-23 17:45:03 Starting - Preparing the instances for training...\n",
      "2024-07-23 17:45:43 Downloading - Downloading the training image.....\u001b[34mArguments: train\u001b[0m\n",
      "\u001b[34m[2024-07-23:17:46:31:INFO] Running standalone xgboost training.\u001b[0m\n",
      "\u001b[34m[2024-07-23:17:46:31:INFO] File size need to be processed in the node: 0.0mb. Available memory size in the node: 8158.36mb\u001b[0m\n",
      "\u001b[34m[2024-07-23:17:46:31:INFO] Determined delimiter of CSV input is ','\u001b[0m\n",
      "\u001b[34m[17:46:31] S3DistributionType set as FullyReplicated\u001b[0m\n",
      "\u001b[34m[17:46:31] 120x4 matrix with 480 entries loaded from /opt/ml/input/data/train?format=csv&label_column=0&delimiter=,\u001b[0m\n",
      "\u001b[34m[2024-07-23:17:46:31:INFO] Determined delimiter of CSV input is ','\u001b[0m\n",
      "\u001b[34m[17:46:31] S3DistributionType set as FullyReplicated\u001b[0m\n",
      "\u001b[34m[17:46:31] 30x4 matrix with 120 entries loaded from /opt/ml/input/data/validation?format=csv&label_column=0&delimiter=,\u001b[0m\n",
      "\u001b[34m[17:46:31] src/tree/updater_prune.cc:74: tree pruning end, 1 roots, 2 extra nodes, 0 pruned nodes, max_depth=1\u001b[0m\n",
      "\u001b[34m[17:46:31] src/tree/updater_prune.cc:74: tree pruning end, 1 roots, 2 extra nodes, 0 pruned nodes, max_depth=1\u001b[0m\n",
      "\u001b[34m[17:46:31] src/tree/updater_prune.cc:74: tree pruning end, 1 roots, 4 extra nodes, 0 pruned nodes, max_depth=2\u001b[0m\n",
      "\u001b[34m[0]#011train-merror:0.016667#011validation-merror:0.133333\u001b[0m\n",
      "\u001b[34m[17:46:31] src/tree/updater_prune.cc:74: tree pruning end, 1 roots, 2 extra nodes, 0 pruned nodes, max_depth=1\u001b[0m\n",
      "\u001b[34m[17:46:31] src/tree/updater_prune.cc:74: tree pruning end, 1 roots, 2 extra nodes, 0 pruned nodes, max_depth=1\u001b[0m\n",
      "\u001b[34m[17:46:31] src/tree/updater_prune.cc:74: tree pruning end, 1 roots, 4 extra nodes, 0 pruned nodes, max_depth=2\u001b[0m\n",
      "\u001b[34m[1]#011train-merror:0.016667#011validation-merror:0.133333\u001b[0m\n",
      "\u001b[34m[17:46:31] src/tree/updater_prune.cc:74: tree pruning end, 1 roots, 2 extra nodes, 0 pruned nodes, max_depth=1\u001b[0m\n",
      "\u001b[34m[17:46:31] src/tree/updater_prune.cc:74: tree pruning end, 1 roots, 2 extra nodes, 0 pruned nodes, max_depth=1\u001b[0m\n",
      "\u001b[34m[17:46:31] src/tree/updater_prune.cc:74: tree pruning end, 1 roots, 4 extra nodes, 0 pruned nodes, max_depth=2\u001b[0m\n",
      "\u001b[34m[2]#011train-merror:0.016667#011validation-merror:0.133333\u001b[0m\n",
      "\u001b[34m[17:46:31] src/tree/updater_prune.cc:74: tree pruning end, 1 roots, 2 extra nodes, 0 pruned nodes, max_depth=1\u001b[0m\n",
      "\u001b[34m[17:46:31] src/tree/updater_prune.cc:74: tree pruning end, 1 roots, 2 extra nodes, 0 pruned nodes, max_depth=1\u001b[0m\n",
      "\u001b[34m[17:46:31] src/tree/updater_prune.cc:74: tree pruning end, 1 roots, 4 extra nodes, 0 pruned nodes, max_depth=2\u001b[0m\n",
      "\u001b[34m[3]#011train-merror:0.016667#011validation-merror:0.133333\u001b[0m\n",
      "\u001b[34m[17:46:31] src/tree/updater_prune.cc:74: tree pruning end, 1 roots, 2 extra nodes, 0 pruned nodes, max_depth=1\u001b[0m\n",
      "\u001b[34m[17:46:31] src/tree/updater_prune.cc:74: tree pruning end, 1 roots, 2 extra nodes, 0 pruned nodes, max_depth=1\u001b[0m\n",
      "\u001b[34m[17:46:31] src/tree/updater_prune.cc:74: tree pruning end, 1 roots, 4 extra nodes, 0 pruned nodes, max_depth=2\u001b[0m\n",
      "\u001b[34m[4]#011train-merror:0.016667#011validation-merror:0.133333\u001b[0m\n",
      "\u001b[34m[17:46:31] src/tree/updater_prune.cc:74: tree pruning end, 1 roots, 2 extra nodes, 0 pruned nodes, max_depth=1\u001b[0m\n",
      "\u001b[34m[17:46:31] src/tree/updater_prune.cc:74: tree pruning end, 1 roots, 2 extra nodes, 0 pruned nodes, max_depth=1\u001b[0m\n",
      "\u001b[34m[17:46:31] src/tree/updater_prune.cc:74: tree pruning end, 1 roots, 4 extra nodes, 0 pruned nodes, max_depth=2\u001b[0m\n",
      "\u001b[34m[5]#011train-merror:0.016667#011validation-merror:0.133333\u001b[0m\n",
      "\u001b[34m[17:46:31] src/tree/updater_prune.cc:74: tree pruning end, 1 roots, 2 extra nodes, 0 pruned nodes, max_depth=1\u001b[0m\n",
      "\u001b[34m[17:46:31] src/tree/updater_prune.cc:74: tree pruning end, 1 roots, 2 extra nodes, 0 pruned nodes, max_depth=1\u001b[0m\n",
      "\u001b[34m[17:46:31] src/tree/updater_prune.cc:74: tree pruning end, 1 roots, 4 extra nodes, 0 pruned nodes, max_depth=2\u001b[0m\n",
      "\u001b[34m[6]#011train-merror:0.016667#011validation-merror:0.133333\u001b[0m\n",
      "\u001b[34m[17:46:31] src/tree/updater_prune.cc:74: tree pruning end, 1 roots, 2 extra nodes, 0 pruned nodes, max_depth=1\u001b[0m\n",
      "\u001b[34m[17:46:31] src/tree/updater_prune.cc:74: tree pruning end, 1 roots, 2 extra nodes, 0 pruned nodes, max_depth=1\u001b[0m\n",
      "\u001b[34m[17:46:31] src/tree/updater_prune.cc:74: tree pruning end, 1 roots, 4 extra nodes, 0 pruned nodes, max_depth=2\u001b[0m\n",
      "\u001b[34m[7]#011train-merror:0.016667#011validation-merror:0.133333\u001b[0m\n",
      "\u001b[34m[17:46:31] src/tree/updater_prune.cc:74: tree pruning end, 1 roots, 2 extra nodes, 0 pruned nodes, max_depth=1\u001b[0m\n",
      "\u001b[34m[17:46:31] src/tree/updater_prune.cc:74: tree pruning end, 1 roots, 2 extra nodes, 2 pruned nodes, max_depth=1\u001b[0m\n",
      "\u001b[34m[17:46:31] src/tree/updater_prune.cc:74: tree pruning end, 1 roots, 0 extra nodes, 4 pruned nodes, max_depth=0\u001b[0m\n",
      "\u001b[34m[8]#011train-merror:0.016667#011validation-merror:0.133333\u001b[0m\n",
      "\u001b[34m[17:46:31] src/tree/updater_prune.cc:74: tree pruning end, 1 roots, 2 extra nodes, 0 pruned nodes, max_depth=1\u001b[0m\n",
      "\u001b[34m[17:46:31] src/tree/updater_prune.cc:74: tree pruning end, 1 roots, 2 extra nodes, 0 pruned nodes, max_depth=1\u001b[0m\n",
      "\u001b[34m[17:46:31] src/tree/updater_prune.cc:74: tree pruning end, 1 roots, 0 extra nodes, 4 pruned nodes, max_depth=0\u001b[0m\n",
      "\u001b[34m[9]#011train-merror:0.016667#011validation-merror:0.133333\u001b[0m\n",
      "\n",
      "2024-07-23 17:46:47 Training - Training image download completed. Training in progress.\n",
      "2024-07-23 17:46:47 Uploading - Uploading generated training model\n",
      "2024-07-23 17:46:47 Completed - Training job completed\n",
      "Training seconds: 85\n",
      "Billable seconds: 85\n"
     ]
    }
   ],
   "source": [
    "train_data = 's3://{}/{}'.format(bucket_name, 'data/train')\n",
    "val_data = 's3://{}/{}'.format(bucket_name, 'data/val')\n",
    "\n",
    "train_channel = sagemaker.session.s3_input(train_data, content_type='text/csv')\n",
    "val_channel = sagemaker.session.s3_input(val_data, content_type='text/csv')\n",
    "\n",
    "data_channels = {'train': train_channel, 'validation': val_channel}\n",
    "\n",
    "xgb_model.fit(inputs=data_channels)"
   ]
  },
  {
   "cell_type": "markdown",
   "id": "dbe9c606",
   "metadata": {},
   "source": [
    "# deploy model"
   ]
  },
  {
   "cell_type": "code",
   "execution_count": 27,
   "id": "ec7495ea",
   "metadata": {},
   "outputs": [
    {
     "name": "stderr",
     "output_type": "stream",
     "text": [
      "INFO:sagemaker:Creating model with name: xgboost-2024-07-23-17-51-03-328\n",
      "INFO:sagemaker:Creating endpoint-config with name xgboost-2024-07-23-17-51-03-328\n",
      "INFO:sagemaker:Creating endpoint with name xgboost-2024-07-23-17-51-03-328\n"
     ]
    },
    {
     "name": "stdout",
     "output_type": "stream",
     "text": [
      "-----!"
     ]
    }
   ],
   "source": [
    "xgb_predictor = xgb_model.deploy(initial_instance_count=1,\n",
    "                                instance_type='ml.m5.xlarge')"
   ]
  },
  {
   "cell_type": "code",
   "execution_count": null,
   "id": "fa6b5197",
   "metadata": {},
   "outputs": [],
   "source": []
  }
 ],
 "metadata": {
  "kernelspec": {
   "display_name": "conda_python3",
   "language": "python",
   "name": "conda_python3"
  },
  "language_info": {
   "codemirror_mode": {
    "name": "ipython",
    "version": 3
   },
   "file_extension": ".py",
   "mimetype": "text/x-python",
   "name": "python",
   "nbconvert_exporter": "python",
   "pygments_lexer": "ipython3",
   "version": "3.10.14"
  }
 },
 "nbformat": 4,
 "nbformat_minor": 5
}
